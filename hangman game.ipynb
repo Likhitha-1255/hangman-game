{
 "cells": [
  {
   "cell_type": "code",
   "execution_count": null,
   "metadata": {},
   "outputs": [],
   "source": [
    "#implementing hangman game"
   ]
  },
  {
   "cell_type": "code",
   "execution_count": null,
   "metadata": {},
   "outputs": [],
   "source": []
  },
  {
   "cell_type": "code",
   "execution_count": 1,
   "metadata": {},
   "outputs": [
    {
     "name": "stdout",
     "output_type": "stream",
     "text": [
      "you are left with 10 turns \n",
      "make a guess:l\n",
      "*****you are left with 9 turns \n",
      "make a guess:p\n",
      "*****you are left with 8 turns \n",
      "make a guess:d\n",
      "***d*you are left with 7 turns \n",
      "make a guess:n\n",
      "n**d*you are left with 6 turns \n",
      "make a guess:o\n",
      "no*d*you are left with 5 turns \n",
      "make a guess:i\n",
      "noid*you are left with 4 turns \n",
      "make a guess:a\n",
      "noida\n",
      "Hurray!! you won..\n"
     ]
    }
   ],
   "source": [
    "from random import choice\n",
    "def word_generator():\n",
    "    word_list=[\"python\",\"vizag\",\"mysore\",\"banglore\",\"chennai\",\"guntur\",\"pune\",\"noida\",\"hyderbad\",\"mysore\",\"calcuta\",\"eluru\",\"vijayawada\"]\n",
    "    return choice(word_list)\n",
    "word=word_generator()\n",
    "guessed=\" \"\n",
    "turns=10\n",
    "while(True):\n",
    "    print(\"you are left with {} turns \".format(turns))\n",
    "    inp=input(\"make a guess:\")\n",
    "    turns=turns-1\n",
    "    if inp in word:\n",
    "        guessed=guessed+inp\n",
    "    ungessed_char=0\n",
    "    for i in word:\n",
    "        if i in guessed:\n",
    "            print(i,end=\"\")\n",
    "        else:\n",
    "            ungessed_char+=1\n",
    "            print(\"*\",end=\"\")\n",
    "    if ungessed_char==0:\n",
    "        print(\"\\nHurray!! you won..\")\n",
    "        break\n",
    "    if turns==0:\n",
    "        print(\"\\ntoin toin toin ... you ran out the attempts\")\n",
    "        break\n",
    "        "
   ]
  },
  {
   "cell_type": "code",
   "execution_count": null,
   "metadata": {},
   "outputs": [],
   "source": []
  },
  {
   "cell_type": "code",
   "execution_count": null,
   "metadata": {},
   "outputs": [],
   "source": []
  },
  {
   "cell_type": "code",
   "execution_count": null,
   "metadata": {},
   "outputs": [],
   "source": []
  }
 ],
 "metadata": {
  "kernelspec": {
   "display_name": "Python 3",
   "language": "python",
   "name": "python3"
  },
  "language_info": {
   "codemirror_mode": {
    "name": "ipython",
    "version": 3
   },
   "file_extension": ".py",
   "mimetype": "text/x-python",
   "name": "python",
   "nbconvert_exporter": "python",
   "pygments_lexer": "ipython3",
   "version": "3.8.5"
  }
 },
 "nbformat": 4,
 "nbformat_minor": 4
}
